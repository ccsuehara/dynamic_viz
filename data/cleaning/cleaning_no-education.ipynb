{
 "cells": [
  {
   "cell_type": "code",
   "execution_count": 1,
   "metadata": {},
   "outputs": [],
   "source": [
    "import pandas as pd"
   ]
  },
  {
   "cell_type": "code",
   "execution_count": 2,
   "metadata": {},
   "outputs": [],
   "source": [
    "data = '../raw/BL2013_MF2599_v2.2.csv'\n",
    "df = pd.read_csv(data)"
   ]
  },
  {
   "cell_type": "code",
   "execution_count": 3,
   "metadata": {},
   "outputs": [
    {
     "data": {
      "text/html": [
       "<div>\n",
       "<style scoped>\n",
       "    .dataframe tbody tr th:only-of-type {\n",
       "        vertical-align: middle;\n",
       "    }\n",
       "\n",
       "    .dataframe tbody tr th {\n",
       "        vertical-align: top;\n",
       "    }\n",
       "\n",
       "    .dataframe thead th {\n",
       "        text-align: right;\n",
       "    }\n",
       "</style>\n",
       "<table border=\"1\" class=\"dataframe\">\n",
       "  <thead>\n",
       "    <tr style=\"text-align: right;\">\n",
       "      <th></th>\n",
       "      <th>BLcode</th>\n",
       "      <th>country</th>\n",
       "      <th>year</th>\n",
       "      <th>sex</th>\n",
       "      <th>agefrom</th>\n",
       "      <th>ageto</th>\n",
       "      <th>lu</th>\n",
       "      <th>lp</th>\n",
       "      <th>lpc</th>\n",
       "      <th>ls</th>\n",
       "      <th>lsc</th>\n",
       "      <th>lh</th>\n",
       "      <th>lhc</th>\n",
       "      <th>yr_sch</th>\n",
       "      <th>yr_sch_pri</th>\n",
       "      <th>yr_sch_sec</th>\n",
       "      <th>yr_sch_ter</th>\n",
       "      <th>pop</th>\n",
       "      <th>WBcode</th>\n",
       "      <th>region_code</th>\n",
       "    </tr>\n",
       "  </thead>\n",
       "  <tbody>\n",
       "    <tr>\n",
       "      <th>0</th>\n",
       "      <td>1</td>\n",
       "      <td>Algeria</td>\n",
       "      <td>1950</td>\n",
       "      <td>MF</td>\n",
       "      <td>25</td>\n",
       "      <td>999</td>\n",
       "      <td>79.20</td>\n",
       "      <td>18.88</td>\n",
       "      <td>3.55</td>\n",
       "      <td>1.58</td>\n",
       "      <td>0.51</td>\n",
       "      <td>0.34</td>\n",
       "      <td>0.23</td>\n",
       "      <td>0.90</td>\n",
       "      <td>0.79</td>\n",
       "      <td>0.10</td>\n",
       "      <td>0.01</td>\n",
       "      <td>3609</td>\n",
       "      <td>DZA</td>\n",
       "      <td>Middle East and North Africa</td>\n",
       "    </tr>\n",
       "    <tr>\n",
       "      <th>1</th>\n",
       "      <td>1</td>\n",
       "      <td>Algeria</td>\n",
       "      <td>1955</td>\n",
       "      <td>MF</td>\n",
       "      <td>25</td>\n",
       "      <td>999</td>\n",
       "      <td>79.80</td>\n",
       "      <td>18.10</td>\n",
       "      <td>3.60</td>\n",
       "      <td>1.70</td>\n",
       "      <td>0.50</td>\n",
       "      <td>0.40</td>\n",
       "      <td>0.27</td>\n",
       "      <td>0.90</td>\n",
       "      <td>0.78</td>\n",
       "      <td>0.11</td>\n",
       "      <td>0.01</td>\n",
       "      <td>3882</td>\n",
       "      <td>DZA</td>\n",
       "      <td>Middle East and North Africa</td>\n",
       "    </tr>\n",
       "    <tr>\n",
       "      <th>2</th>\n",
       "      <td>1</td>\n",
       "      <td>Algeria</td>\n",
       "      <td>1960</td>\n",
       "      <td>MF</td>\n",
       "      <td>25</td>\n",
       "      <td>999</td>\n",
       "      <td>84.56</td>\n",
       "      <td>13.51</td>\n",
       "      <td>2.82</td>\n",
       "      <td>1.60</td>\n",
       "      <td>0.60</td>\n",
       "      <td>0.33</td>\n",
       "      <td>0.21</td>\n",
       "      <td>0.72</td>\n",
       "      <td>0.61</td>\n",
       "      <td>0.10</td>\n",
       "      <td>0.01</td>\n",
       "      <td>4097</td>\n",
       "      <td>DZA</td>\n",
       "      <td>Middle East and North Africa</td>\n",
       "    </tr>\n",
       "    <tr>\n",
       "      <th>3</th>\n",
       "      <td>1</td>\n",
       "      <td>Algeria</td>\n",
       "      <td>1965</td>\n",
       "      <td>MF</td>\n",
       "      <td>25</td>\n",
       "      <td>999</td>\n",
       "      <td>88.00</td>\n",
       "      <td>9.80</td>\n",
       "      <td>2.43</td>\n",
       "      <td>1.70</td>\n",
       "      <td>0.80</td>\n",
       "      <td>0.40</td>\n",
       "      <td>0.26</td>\n",
       "      <td>0.64</td>\n",
       "      <td>0.51</td>\n",
       "      <td>0.12</td>\n",
       "      <td>0.01</td>\n",
       "      <td>4215</td>\n",
       "      <td>DZA</td>\n",
       "      <td>Middle East and North Africa</td>\n",
       "    </tr>\n",
       "    <tr>\n",
       "      <th>4</th>\n",
       "      <td>1</td>\n",
       "      <td>Algeria</td>\n",
       "      <td>1970</td>\n",
       "      <td>MF</td>\n",
       "      <td>25</td>\n",
       "      <td>999</td>\n",
       "      <td>84.40</td>\n",
       "      <td>13.00</td>\n",
       "      <td>3.17</td>\n",
       "      <td>2.20</td>\n",
       "      <td>1.02</td>\n",
       "      <td>0.30</td>\n",
       "      <td>0.19</td>\n",
       "      <td>0.78</td>\n",
       "      <td>0.64</td>\n",
       "      <td>0.14</td>\n",
       "      <td>0.01</td>\n",
       "      <td>4684</td>\n",
       "      <td>DZA</td>\n",
       "      <td>Middle East and North Africa</td>\n",
       "    </tr>\n",
       "  </tbody>\n",
       "</table>\n",
       "</div>"
      ],
      "text/plain": [
       "   BLcode  country  year sex  agefrom  ageto     lu     lp   lpc    ls   lsc  \\\n",
       "0       1  Algeria  1950  MF       25    999  79.20  18.88  3.55  1.58  0.51   \n",
       "1       1  Algeria  1955  MF       25    999  79.80  18.10  3.60  1.70  0.50   \n",
       "2       1  Algeria  1960  MF       25    999  84.56  13.51  2.82  1.60  0.60   \n",
       "3       1  Algeria  1965  MF       25    999  88.00   9.80  2.43  1.70  0.80   \n",
       "4       1  Algeria  1970  MF       25    999  84.40  13.00  3.17  2.20  1.02   \n",
       "\n",
       "     lh   lhc  yr_sch  yr_sch_pri  yr_sch_sec  yr_sch_ter   pop WBcode  \\\n",
       "0  0.34  0.23    0.90        0.79        0.10        0.01  3609    DZA   \n",
       "1  0.40  0.27    0.90        0.78        0.11        0.01  3882    DZA   \n",
       "2  0.33  0.21    0.72        0.61        0.10        0.01  4097    DZA   \n",
       "3  0.40  0.26    0.64        0.51        0.12        0.01  4215    DZA   \n",
       "4  0.30  0.19    0.78        0.64        0.14        0.01  4684    DZA   \n",
       "\n",
       "                    region_code  \n",
       "0  Middle East and North Africa  \n",
       "1  Middle East and North Africa  \n",
       "2  Middle East and North Africa  \n",
       "3  Middle East and North Africa  \n",
       "4  Middle East and North Africa  "
      ]
     },
     "execution_count": 3,
     "metadata": {},
     "output_type": "execute_result"
    }
   ],
   "source": [
    "df.head()"
   ]
  },
  {
   "cell_type": "code",
   "execution_count": 4,
   "metadata": {},
   "outputs": [
    {
     "data": {
      "text/plain": [
       "Index(['BLcode', 'country', 'year', 'sex', 'agefrom', 'ageto', 'lu', 'lp',\n",
       "       'lpc', 'ls', 'lsc', 'lh', 'lhc', 'yr_sch', 'yr_sch_pri', 'yr_sch_sec',\n",
       "       'yr_sch_ter', 'pop', 'WBcode', 'region_code'],\n",
       "      dtype='object')"
      ]
     },
     "execution_count": 4,
     "metadata": {},
     "output_type": "execute_result"
    }
   ],
   "source": [
    "df.columns"
   ]
  },
  {
   "cell_type": "code",
   "execution_count": 5,
   "metadata": {},
   "outputs": [],
   "source": [
    "cols = ['year', 'country', 'lu', 'WBcode']\n",
    "df = df[cols].reset_index(drop=True)"
   ]
  },
  {
   "cell_type": "code",
   "execution_count": 6,
   "metadata": {},
   "outputs": [],
   "source": [
    "rename_dic = {'country': 'name',\n",
    "              'lu': 'no_education',\n",
    "              'WBcode': 'id'}"
   ]
  },
  {
   "cell_type": "code",
   "execution_count": 7,
   "metadata": {},
   "outputs": [],
   "source": [
    "df = df.rename(columns=rename_dic)"
   ]
  },
  {
   "cell_type": "code",
   "execution_count": 8,
   "metadata": {},
   "outputs": [],
   "source": [
    "df = df.sort_values(['year', 'name']).reset_index(drop=True)"
   ]
  },
  {
   "cell_type": "code",
   "execution_count": 9,
   "metadata": {},
   "outputs": [
    {
     "data": {
      "text/html": [
       "<div>\n",
       "<style scoped>\n",
       "    .dataframe tbody tr th:only-of-type {\n",
       "        vertical-align: middle;\n",
       "    }\n",
       "\n",
       "    .dataframe tbody tr th {\n",
       "        vertical-align: top;\n",
       "    }\n",
       "\n",
       "    .dataframe thead th {\n",
       "        text-align: right;\n",
       "    }\n",
       "</style>\n",
       "<table border=\"1\" class=\"dataframe\">\n",
       "  <thead>\n",
       "    <tr style=\"text-align: right;\">\n",
       "      <th></th>\n",
       "      <th>year</th>\n",
       "      <th>name</th>\n",
       "      <th>no_education</th>\n",
       "      <th>id</th>\n",
       "    </tr>\n",
       "  </thead>\n",
       "  <tbody>\n",
       "    <tr>\n",
       "      <th>0</th>\n",
       "      <td>1950</td>\n",
       "      <td>Afghanistan</td>\n",
       "      <td>97.79</td>\n",
       "      <td>AFG</td>\n",
       "    </tr>\n",
       "    <tr>\n",
       "      <th>1</th>\n",
       "      <td>1950</td>\n",
       "      <td>Albania</td>\n",
       "      <td>44.49</td>\n",
       "      <td>ALB</td>\n",
       "    </tr>\n",
       "    <tr>\n",
       "      <th>2</th>\n",
       "      <td>1950</td>\n",
       "      <td>Algeria</td>\n",
       "      <td>79.20</td>\n",
       "      <td>DZA</td>\n",
       "    </tr>\n",
       "    <tr>\n",
       "      <th>3</th>\n",
       "      <td>1950</td>\n",
       "      <td>Argentina</td>\n",
       "      <td>15.87</td>\n",
       "      <td>ARG</td>\n",
       "    </tr>\n",
       "    <tr>\n",
       "      <th>4</th>\n",
       "      <td>1950</td>\n",
       "      <td>Armenia</td>\n",
       "      <td>7.85</td>\n",
       "      <td>ARM</td>\n",
       "    </tr>\n",
       "  </tbody>\n",
       "</table>\n",
       "</div>"
      ],
      "text/plain": [
       "   year         name  no_education   id\n",
       "0  1950  Afghanistan         97.79  AFG\n",
       "1  1950      Albania         44.49  ALB\n",
       "2  1950      Algeria         79.20  DZA\n",
       "3  1950    Argentina         15.87  ARG\n",
       "4  1950      Armenia          7.85  ARM"
      ]
     },
     "execution_count": 9,
     "metadata": {},
     "output_type": "execute_result"
    }
   ],
   "source": [
    "df.head()"
   ]
  },
  {
   "cell_type": "code",
   "execution_count": 10,
   "metadata": {},
   "outputs": [],
   "source": [
    "export = '../clean/no_education_by_country.csv'\n",
    "df.to_csv(export, index=False)"
   ]
  }
 ],
 "metadata": {
  "kernelspec": {
   "display_name": "Python 3",
   "language": "python",
   "name": "python3"
  },
  "language_info": {
   "codemirror_mode": {
    "name": "ipython",
    "version": 3
   },
   "file_extension": ".py",
   "mimetype": "text/x-python",
   "name": "python",
   "nbconvert_exporter": "python",
   "pygments_lexer": "ipython3",
   "version": "3.6.9"
  }
 },
 "nbformat": 4,
 "nbformat_minor": 4
}
